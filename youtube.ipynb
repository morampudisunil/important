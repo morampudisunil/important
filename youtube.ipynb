{
 "cells": [
  {
   "cell_type": "code",
   "execution_count": null,
   "id": "ce8f9792",
   "metadata": {},
   "outputs": [],
   "source": [
    "pip install pytube"
   ]
  },
  {
   "cell_type": "code",
   "execution_count": null,
   "id": "3788914c",
   "metadata": {},
   "outputs": [],
   "source": [
    "# importing the module\n",
    "from pytube import YouTube\n",
    "\n",
    "# where to save\n",
    "SAVE_PATH = \"E:/\" #to_do\n",
    "\n",
    "# link of the video to be downloaded\n",
    "link=\"https://www.youtube.com/watch?v=xWOoBJUqlbI\"\n",
    "\n",
    "try:\n",
    "\t# object creation using YouTube\n",
    "\t# which was imported in the beginning\n",
    "\tyt = YouTubbe(link)\n",
    "except:\n",
    "\tprint(\"Connection Error\") #to handle exception\n",
    "\n",
    "# filters out all the files with \"mp4\" extension\n",
    "mp4files = yt.filter('mp4')\n",
    "\n",
    "#to set the name of the file\n",
    "yt.set_filename('GeeksforGeeks Video')\n",
    "\n",
    "# get the video with the extension and\n",
    "# resolution passed in the get() function\n",
    "d_video = yt.get(mp4files[-1].extension,mp4files[-1].resolution)\n",
    "try:\n",
    "\t# downloading the video\n",
    "\td_video.download(SAVE_PATH)\n",
    "except:\n",
    "\tprint(\"Some Error!\")\n",
    "print('Task Completed!')\n"
   ]
  },
  {
   "cell_type": "code",
   "execution_count": null,
   "id": "8908e6d2",
   "metadata": {},
   "outputs": [],
   "source": [
    "from pytube import YouTube\n",
    "link=\"https://www.youtube.com/watch?v=xWOoBJUqlbI\""
   ]
  },
  {
   "cell_type": "code",
   "execution_count": 1,
   "id": "c8cc71c8",
   "metadata": {},
   "outputs": [
    {
     "name": "stdout",
     "output_type": "stream",
     "text": [
      "Enter the YouTube video URL: https://www.youtube.com/watch?v=Er8D49RPLCs&list=RDMMEr8D49RPLCs&start_radio=1\n",
      "Download is completed successfully\n"
     ]
    }
   ],
   "source": [
    "from pytube import YouTube\n",
    "\n",
    "def Download(link):\n",
    "    youtubeObject = YouTube(link)\n",
    "    youtubeObject = youtubeObject.streams.get_highest_resolution()\n",
    "    try:\n",
    "        youtubeObject.download()\n",
    "    except:\n",
    "        print(\"An error has occurred\")\n",
    "    print(\"Download is completed successfully\")\n",
    "\n",
    "\n",
    "link = input(\"Enter the YouTube video URL: \")\n",
    "Download(link)"
   ]
  }
 ],
 "metadata": {
  "kernelspec": {
   "display_name": "Python 3 (ipykernel)",
   "language": "python",
   "name": "python3"
  },
  "language_info": {
   "codemirror_mode": {
    "name": "ipython",
    "version": 3
   },
   "file_extension": ".py",
   "mimetype": "text/x-python",
   "name": "python",
   "nbconvert_exporter": "python",
   "pygments_lexer": "ipython3",
   "version": "3.10.9"
  }
 },
 "nbformat": 4,
 "nbformat_minor": 5
}
