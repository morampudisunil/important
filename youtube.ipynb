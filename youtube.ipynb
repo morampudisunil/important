{
 "cells": [
  {
   "cell_type": "code",
   "execution_count": 4,
   "id": "ce8f9792",
   "metadata": {},
   "outputs": [
    {
     "name": "stdout",
     "output_type": "stream",
     "text": [
      "Requirement already satisfied: pytube in c:\\users\\dell\\anaconda3\\lib\\site-packages (15.0.0)\n",
      "Note: you may need to restart the kernel to use updated packages.\n"
     ]
    }
   ],
   "source": [
    "pip install pytube"
   ]
  },
  {
   "cell_type": "code",
   "execution_count": 8,
   "id": "3788914c",
   "metadata": {},
   "outputs": [
    {
     "name": "stdout",
     "output_type": "stream",
     "text": [
      "Connection Error\n"
     ]
    },
    {
     "ename": "AttributeError",
     "evalue": "'YouTube' object has no attribute 'filter'",
     "output_type": "error",
     "traceback": [
      "\u001b[1;31m---------------------------------------------------------------------------\u001b[0m",
      "\u001b[1;31mAttributeError\u001b[0m                            Traceback (most recent call last)",
      "Cell \u001b[1;32mIn[8], line 18\u001b[0m\n\u001b[0;32m     15\u001b[0m \t\u001b[38;5;28mprint\u001b[39m(\u001b[38;5;124m\"\u001b[39m\u001b[38;5;124mConnection Error\u001b[39m\u001b[38;5;124m\"\u001b[39m) \u001b[38;5;66;03m#to handle exception\u001b[39;00m\n\u001b[0;32m     17\u001b[0m \u001b[38;5;66;03m# filters out all the files with \"mp4\" extension\u001b[39;00m\n\u001b[1;32m---> 18\u001b[0m mp4files \u001b[38;5;241m=\u001b[39m \u001b[43myt\u001b[49m\u001b[38;5;241;43m.\u001b[39;49m\u001b[43mfilter\u001b[49m(\u001b[38;5;124m'\u001b[39m\u001b[38;5;124mmp4\u001b[39m\u001b[38;5;124m'\u001b[39m)\n\u001b[0;32m     20\u001b[0m \u001b[38;5;66;03m#to set the name of the file\u001b[39;00m\n\u001b[0;32m     21\u001b[0m yt\u001b[38;5;241m.\u001b[39mset_filename(\u001b[38;5;124m'\u001b[39m\u001b[38;5;124mGeeksforGeeks Video\u001b[39m\u001b[38;5;124m'\u001b[39m)\n",
      "\u001b[1;31mAttributeError\u001b[0m: 'YouTube' object has no attribute 'filter'"
     ]
    }
   ],
   "source": [
    "# importing the module\n",
    "from pytube import YouTube\n",
    "\n",
    "# where to save\n",
    "SAVE_PATH = \"E:/\" #to_do\n",
    "\n",
    "# link of the video to be downloaded\n",
    "link=\"https://www.youtube.com/watch?v=xWOoBJUqlbI\"\n",
    "\n",
    "try:\n",
    "\t# object creation using YouTube\n",
    "\t# which was imported in the beginning\n",
    "\tyt = YouTubbe(link)\n",
    "except:\n",
    "\tprint(\"Connection Error\") #to handle exception\n",
    "\n",
    "# filters out all the files with \"mp4\" extension\n",
    "mp4files = yt.filter('mp4')\n",
    "\n",
    "#to set the name of the file\n",
    "yt.set_filename('GeeksforGeeks Video')\n",
    "\n",
    "# get the video with the extension and\n",
    "# resolution passed in the get() function\n",
    "d_video = yt.get(mp4files[-1].extension,mp4files[-1].resolution)\n",
    "try:\n",
    "\t# downloading the video\n",
    "\td_video.download(SAVE_PATH)\n",
    "except:\n",
    "\tprint(\"Some Error!\")\n",
    "print('Task Completed!')\n"
   ]
  },
  {
   "cell_type": "code",
   "execution_count": null,
   "id": "8908e6d2",
   "metadata": {},
   "outputs": [],
   "source": [
    "from pytube import YouTube\n",
    "link=\"https://www.youtube.com/watch?v=xWOoBJUqlbI\""
   ]
  },
  {
   "cell_type": "code",
   "execution_count": 9,
   "id": "c8cc71c8",
   "metadata": {},
   "outputs": [
    {
     "ename": "RegexMatchError",
     "evalue": "regex_search: could not find match for (?:v=|\\/)([0-9A-Za-z_-]{11}).*",
     "output_type": "error",
     "traceback": [
      "\u001b[1;31m---------------------------------------------------------------------------\u001b[0m",
      "\u001b[1;31mRegexMatchError\u001b[0m                           Traceback (most recent call last)",
      "Cell \u001b[1;32mIn[9], line 14\u001b[0m\n\u001b[0;32m     10\u001b[0m     \u001b[38;5;28mprint\u001b[39m(\u001b[38;5;124m\"\u001b[39m\u001b[38;5;124mDownload is completed successfully\u001b[39m\u001b[38;5;124m\"\u001b[39m)\n\u001b[0;32m     13\u001b[0m link \u001b[38;5;241m=\u001b[39m \u001b[38;5;28minput\u001b[39m(\u001b[38;5;124m\"\u001b[39m\u001b[38;5;124mEnter the YouTube video URL: \u001b[39m\u001b[38;5;124m\"\u001b[39m)\n\u001b[1;32m---> 14\u001b[0m \u001b[43mDownload\u001b[49m\u001b[43m(\u001b[49m\u001b[43mlink\u001b[49m\u001b[43m)\u001b[49m\n",
      "Cell \u001b[1;32mIn[9], line 4\u001b[0m, in \u001b[0;36mDownload\u001b[1;34m(link)\u001b[0m\n\u001b[0;32m      3\u001b[0m \u001b[38;5;28;01mdef\u001b[39;00m \u001b[38;5;21mDownload\u001b[39m(link):\n\u001b[1;32m----> 4\u001b[0m     youtubeObject \u001b[38;5;241m=\u001b[39m \u001b[43mYouTube\u001b[49m\u001b[43m(\u001b[49m\u001b[43mlink\u001b[49m\u001b[43m)\u001b[49m\n\u001b[0;32m      5\u001b[0m     youtubeObject \u001b[38;5;241m=\u001b[39m youtubeObject\u001b[38;5;241m.\u001b[39mstreams\u001b[38;5;241m.\u001b[39mget_highest_resolution()\n\u001b[0;32m      6\u001b[0m     \u001b[38;5;28;01mtry\u001b[39;00m:\n",
      "File \u001b[1;32mc:\\Users\\DELL\\anaconda3\\Lib\\site-packages\\pytube\\__main__.py:71\u001b[0m, in \u001b[0;36mYouTube.__init__\u001b[1;34m(self, url, on_progress_callback, on_complete_callback, proxies, use_oauth, allow_oauth_cache)\u001b[0m\n\u001b[0;32m     68\u001b[0m \u001b[38;5;28mself\u001b[39m\u001b[38;5;241m.\u001b[39m_metadata: Optional[YouTubeMetadata] \u001b[38;5;241m=\u001b[39m \u001b[38;5;28;01mNone\u001b[39;00m\n\u001b[0;32m     70\u001b[0m \u001b[38;5;66;03m# video_id part of /watch?v=<video_id>\u001b[39;00m\n\u001b[1;32m---> 71\u001b[0m \u001b[38;5;28mself\u001b[39m\u001b[38;5;241m.\u001b[39mvideo_id \u001b[38;5;241m=\u001b[39m \u001b[43mextract\u001b[49m\u001b[38;5;241;43m.\u001b[39;49m\u001b[43mvideo_id\u001b[49m\u001b[43m(\u001b[49m\u001b[43murl\u001b[49m\u001b[43m)\u001b[49m\n\u001b[0;32m     73\u001b[0m \u001b[38;5;28mself\u001b[39m\u001b[38;5;241m.\u001b[39mwatch_url \u001b[38;5;241m=\u001b[39m \u001b[38;5;124mf\u001b[39m\u001b[38;5;124m\"\u001b[39m\u001b[38;5;124mhttps://youtube.com/watch?v=\u001b[39m\u001b[38;5;132;01m{\u001b[39;00m\u001b[38;5;28mself\u001b[39m\u001b[38;5;241m.\u001b[39mvideo_id\u001b[38;5;132;01m}\u001b[39;00m\u001b[38;5;124m\"\u001b[39m\n\u001b[0;32m     74\u001b[0m \u001b[38;5;28mself\u001b[39m\u001b[38;5;241m.\u001b[39membed_url \u001b[38;5;241m=\u001b[39m \u001b[38;5;124mf\u001b[39m\u001b[38;5;124m\"\u001b[39m\u001b[38;5;124mhttps://www.youtube.com/embed/\u001b[39m\u001b[38;5;132;01m{\u001b[39;00m\u001b[38;5;28mself\u001b[39m\u001b[38;5;241m.\u001b[39mvideo_id\u001b[38;5;132;01m}\u001b[39;00m\u001b[38;5;124m\"\u001b[39m\n",
      "File \u001b[1;32mc:\\Users\\DELL\\anaconda3\\Lib\\site-packages\\pytube\\extract.py:133\u001b[0m, in \u001b[0;36mvideo_id\u001b[1;34m(url)\u001b[0m\n\u001b[0;32m    118\u001b[0m \u001b[38;5;28;01mdef\u001b[39;00m \u001b[38;5;21mvideo_id\u001b[39m(url: \u001b[38;5;28mstr\u001b[39m) \u001b[38;5;241m-\u001b[39m\u001b[38;5;241m>\u001b[39m \u001b[38;5;28mstr\u001b[39m:\n\u001b[0;32m    119\u001b[0m \u001b[38;5;250m    \u001b[39m\u001b[38;5;124;03m\"\"\"Extract the ``video_id`` from a YouTube url.\u001b[39;00m\n\u001b[0;32m    120\u001b[0m \n\u001b[0;32m    121\u001b[0m \u001b[38;5;124;03m    This function supports the following patterns:\u001b[39;00m\n\u001b[1;32m   (...)\u001b[0m\n\u001b[0;32m    131\u001b[0m \u001b[38;5;124;03m        YouTube video id.\u001b[39;00m\n\u001b[0;32m    132\u001b[0m \u001b[38;5;124;03m    \"\"\"\u001b[39;00m\n\u001b[1;32m--> 133\u001b[0m     \u001b[38;5;28;01mreturn\u001b[39;00m \u001b[43mregex_search\u001b[49m\u001b[43m(\u001b[49m\u001b[38;5;124;43mr\u001b[39;49m\u001b[38;5;124;43m\"\u001b[39;49m\u001b[38;5;124;43m(?:v=|\u001b[39;49m\u001b[38;5;124;43m\\\u001b[39;49m\u001b[38;5;124;43m/)([0-9A-Za-z_-]\u001b[39;49m\u001b[38;5;132;43;01m{11}\u001b[39;49;00m\u001b[38;5;124;43m).*\u001b[39;49m\u001b[38;5;124;43m\"\u001b[39;49m\u001b[43m,\u001b[49m\u001b[43m \u001b[49m\u001b[43murl\u001b[49m\u001b[43m,\u001b[49m\u001b[43m \u001b[49m\u001b[43mgroup\u001b[49m\u001b[38;5;241;43m=\u001b[39;49m\u001b[38;5;241;43m1\u001b[39;49m\u001b[43m)\u001b[49m\n",
      "File \u001b[1;32mc:\\Users\\DELL\\anaconda3\\Lib\\site-packages\\pytube\\helpers.py:129\u001b[0m, in \u001b[0;36mregex_search\u001b[1;34m(pattern, string, group)\u001b[0m\n\u001b[0;32m    127\u001b[0m results \u001b[38;5;241m=\u001b[39m regex\u001b[38;5;241m.\u001b[39msearch(string)\n\u001b[0;32m    128\u001b[0m \u001b[38;5;28;01mif\u001b[39;00m \u001b[38;5;129;01mnot\u001b[39;00m results:\n\u001b[1;32m--> 129\u001b[0m     \u001b[38;5;28;01mraise\u001b[39;00m RegexMatchError(caller\u001b[38;5;241m=\u001b[39m\u001b[38;5;124m\"\u001b[39m\u001b[38;5;124mregex_search\u001b[39m\u001b[38;5;124m\"\u001b[39m, pattern\u001b[38;5;241m=\u001b[39mpattern)\n\u001b[0;32m    131\u001b[0m logger\u001b[38;5;241m.\u001b[39mdebug(\u001b[38;5;124m\"\u001b[39m\u001b[38;5;124mmatched regex search: \u001b[39m\u001b[38;5;132;01m%s\u001b[39;00m\u001b[38;5;124m\"\u001b[39m, pattern)\n\u001b[0;32m    133\u001b[0m \u001b[38;5;28;01mreturn\u001b[39;00m results\u001b[38;5;241m.\u001b[39mgroup(group)\n",
      "\u001b[1;31mRegexMatchError\u001b[0m: regex_search: could not find match for (?:v=|\\/)([0-9A-Za-z_-]{11}).*"
     ]
    }
   ],
   "source": [
    "from pytube import YouTube\n",
    "\n",
    "def Download(link):\n",
    "    youtubeObject = YouTube(link)\n",
    "    youtubeObject = youtubeObject.streams.get_highest_resolution()\n",
    "    try:\n",
    "        youtubeObject.download()\n",
    "    except:\n",
    "        print(\"An error has occurred\")\n",
    "    print(\"Download is completed successfully\")\n",
    "\n",
    "\n",
    "link = input(\"Enter the YouTube video URL: \")\n",
    "Download(link)"
   ]
  }
 ],
 "metadata": {
  "kernelspec": {
   "display_name": "Python 3 (ipykernel)",
   "language": "python",
   "name": "python3"
  },
  "language_info": {
   "codemirror_mode": {
    "name": "ipython",
    "version": 3
   },
   "file_extension": ".py",
   "mimetype": "text/x-python",
   "name": "python",
   "nbconvert_exporter": "python",
   "pygments_lexer": "ipython3",
   "version": "3.11.5"
  }
 },
 "nbformat": 4,
 "nbformat_minor": 5
}
